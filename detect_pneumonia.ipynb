{
 "cells": [
  {
   "cell_type": "code",
   "id": "initial_id",
   "metadata": {
    "collapsed": true,
    "ExecuteTime": {
     "end_time": "2025-01-29T15:46:37.417469Z",
     "start_time": "2025-01-29T15:46:35.444649Z"
    }
   },
   "source": [
    "# import libraries\n",
    "\n",
    "import numpy as np\n",
    "import pandas as pd\n",
    "\n",
    "import matplotlib.pyplot as plt\n",
    "import seaborn as sns\n",
    "\n",
    "from tensorflow.keras.models import Sequential # CNN\n",
    "from tensorflow.keras.layers import Dense, Conv2D, MaxPool2D, Flatten, Dropout, BatchNormalization\n",
    "from tensorflow.keras.callbacks import ReduceLROnPlateau\n",
    "\n",
    "import cv2\n",
    "import os\n",
    "\n",
    "from tqdm import tqdm\n",
    "\n",
    "import warnings\n",
    "\n",
    "from config import DATASET_PATH\n",
    "\n",
    "warnings.filterwarnings('ignore')"
   ],
   "outputs": [],
   "execution_count": 1
  },
  {
   "metadata": {
    "ExecuteTime": {
     "end_time": "2025-01-29T15:46:37.432840Z",
     "start_time": "2025-01-29T15:46:37.417469Z"
    }
   },
   "cell_type": "code",
   "source": [
    "# load data\n",
    "\n",
    "# via : https://www.kaggle.com/datasets/paultimothymooney/chest-xray-pneumonia/data\n",
    "\n",
    "labels = ['NORMAL','PNEUMONIA']\n",
    "img_size = 150 # 150*150px\n"
   ],
   "id": "e23e0993b6c166aa",
   "outputs": [],
   "execution_count": 2
  },
  {
   "metadata": {
    "ExecuteTime": {
     "end_time": "2025-01-29T15:46:37.627634Z",
     "start_time": "2025-01-29T15:46:37.605744Z"
    }
   },
   "cell_type": "code",
   "source": [
    "def get_data(data_dir):\n",
    "    data = list()\n",
    "    \n",
    "    for label in labels:\n",
    "        path = os.path.join(data_dir, label)\n",
    "        class_id = labels.index(label) # 'PNEU' = 0, 'NORM' = 1\n",
    "              \n",
    "        for img_name in tqdm(os.listdir(path)):\n",
    "            \n",
    "            try:\n",
    "                # read image\n",
    "                img = cv2.imread(os.path.join(path, img_name), cv2.IMREAD_GRAYSCALE)\n",
    "                \n",
    "                if img is None:\n",
    "                    print(\"image can not be read\")\n",
    "                    continue\n",
    "                \n",
    "                # resize img\n",
    "                resized_img =  cv2.resize(img, (img_size, img_size))    \n",
    "                \n",
    "                data.append([resized_img, class_id]) \n",
    "            \n",
    "            except Exception as e:\n",
    "                print(e)\n",
    "    \n",
    "    return np.array(data, dtype = 'object')            \n",
    "        \n",
    "    "
   ],
   "id": "1b257be697995008",
   "outputs": [],
   "execution_count": 3
  },
  {
   "metadata": {
    "ExecuteTime": {
     "end_time": "2025-01-29T15:46:37.648983Z",
     "start_time": "2025-01-29T15:46:37.643340Z"
    }
   },
   "cell_type": "code",
   "source": "get_path = lambda x : os.path.join(DATASET_PATH, x)",
   "id": "9fef800ba67ccec6",
   "outputs": [],
   "execution_count": 4
  },
  {
   "metadata": {
    "ExecuteTime": {
     "end_time": "2025-01-29T15:47:10.971479Z",
     "start_time": "2025-01-29T15:46:37.664801Z"
    }
   },
   "cell_type": "code",
   "source": "train = get_data(get_path('train'))",
   "id": "32174be4cfec13f",
   "outputs": [
    {
     "name": "stderr",
     "output_type": "stream",
     "text": [
      "100%|██████████| 1341/1341 [00:18<00:00, 72.95it/s]\n",
      "100%|██████████| 3875/3875 [00:14<00:00, 260.02it/s]\n"
     ]
    }
   ],
   "execution_count": 5
  },
  {
   "metadata": {
    "ExecuteTime": {
     "end_time": "2025-01-29T15:47:14.607221Z",
     "start_time": "2025-01-29T15:47:11.018734Z"
    }
   },
   "cell_type": "code",
   "source": "test = get_data(get_path('test'))",
   "id": "7bbe235de9098925",
   "outputs": [
    {
     "name": "stderr",
     "output_type": "stream",
     "text": [
      "100%|██████████| 234/234 [00:02<00:00, 104.70it/s]\n",
      "100%|██████████| 390/390 [00:01<00:00, 292.82it/s]\n"
     ]
    }
   ],
   "execution_count": 6
  },
  {
   "metadata": {
    "ExecuteTime": {
     "end_time": "2025-01-29T15:47:14.801003Z",
     "start_time": "2025-01-29T15:47:14.685671Z"
    }
   },
   "cell_type": "code",
   "source": "val = get_data(get_path('val'))",
   "id": "d7a2c6360077b80c",
   "outputs": [
    {
     "name": "stderr",
     "output_type": "stream",
     "text": [
      "100%|██████████| 8/8 [00:00<00:00, 125.98it/s]\n",
      "100%|██████████| 8/8 [00:00<00:00, 257.36it/s]\n"
     ]
    }
   ],
   "execution_count": 7
  },
  {
   "metadata": {
    "ExecuteTime": {
     "end_time": "2025-01-29T15:47:14.894681Z",
     "start_time": "2025-01-29T15:47:14.879215Z"
    }
   },
   "cell_type": "code",
   "source": "print(f\"train : {train.shape}\\ntest : {test.shape}\\nval : {val.shape}\")",
   "id": "3f8cf802d2efe487",
   "outputs": [
    {
     "name": "stdout",
     "output_type": "stream",
     "text": [
      "train : (5216, 2)\n",
      "test : (624, 2)\n",
      "val : (16, 2)\n"
     ]
    }
   ],
   "execution_count": 8
  }
 ],
 "metadata": {
  "kernelspec": {
   "display_name": "Python 3",
   "language": "python",
   "name": "python3"
  },
  "language_info": {
   "codemirror_mode": {
    "name": "ipython",
    "version": 2
   },
   "file_extension": ".py",
   "mimetype": "text/x-python",
   "name": "python",
   "nbconvert_exporter": "python",
   "pygments_lexer": "ipython2",
   "version": "2.7.6"
  }
 },
 "nbformat": 4,
 "nbformat_minor": 5
}
